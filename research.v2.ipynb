{
 "cells": [
  {
   "cell_type": "code",
   "execution_count": 1,
   "metadata": {},
   "outputs": [],
   "source": [
    "import sys\n",
    "import glob\n",
    "import os\n",
    "import torch\n",
    "from torch.utils.data.dataset import random_split\n",
    "from tqdm import tqdm\n",
    "import pandas as pd\n",
    "from torch.utils.data import Dataset, TensorDataset, DataLoader\n",
    "from torchvision import datasets, models, transforms\n",
    "from datetime import datetime\n",
    "device = torch.device(\"cuda\" if torch.cuda.is_available() else \"cpu\")\n",
    "from pathlib import Path\n",
    "import torchvision\n"
   ]
  },
  {
   "cell_type": "code",
   "execution_count": 2,
   "metadata": {},
   "outputs": [],
   "source": [
    "transform = transforms.Compose([ transforms.ToTensor() ])\n",
    "dataset = datasets.ImageFolder('./kaggle/input/birdclef-2023/train_melspectrogram', transform=transform )\n",
    "\n",
    "# split dataset\n",
    "rows = len(dataset) \n",
    "test_size = int(rows*0.2)\n",
    "train_size = rows - test_size\n",
    "\n",
    "trainDataset, testDataset = random_split(dataset, [train_size, test_size])\n",
    "\n",
    "trainloader = torch.utils.data.DataLoader(trainDataset, batch_size=64, shuffle=True)"
   ]
  },
  {
   "cell_type": "code",
   "execution_count": 4,
   "metadata": {},
   "outputs": [
    {
     "data": {
      "text/plain": [
       "{'abethr1': 0,\n",
       " 'abhori1': 1,\n",
       " 'abythr1': 2,\n",
       " 'afbfly1': 3,\n",
       " 'afdfly1': 4,\n",
       " 'afecuc1': 5,\n",
       " 'affeag1': 6,\n",
       " 'afgfly1': 7,\n",
       " 'afghor1': 8,\n",
       " 'afmdov1': 9,\n",
       " 'afpfly1': 10,\n",
       " 'afpkin1': 11,\n",
       " 'afpwag1': 12,\n",
       " 'afrgos1': 13,\n",
       " 'afrgrp1': 14,\n",
       " 'afrjac1': 15,\n",
       " 'afrthr1': 16,\n",
       " 'amesun2': 17,\n",
       " 'augbuz1': 18,\n",
       " 'bagwea1': 19,\n",
       " 'barswa': 20,\n",
       " 'bawhor2': 21,\n",
       " 'bawman1': 22,\n",
       " 'bcbeat1': 23,\n",
       " 'beasun2': 24,\n",
       " 'bkctch1': 25,\n",
       " 'bkfruw1': 26,\n",
       " 'blacra1': 27,\n",
       " 'blacuc1': 28,\n",
       " 'blakit1': 29,\n",
       " 'blaplo1': 30,\n",
       " 'blbpuf2': 31,\n",
       " 'blcapa2': 32,\n",
       " 'blfbus1': 33,\n",
       " 'blhgon1': 34,\n",
       " 'blhher1': 35,\n",
       " 'blksaw1': 36,\n",
       " 'blnmou1': 37,\n",
       " 'blnwea1': 38,\n",
       " 'bltapa1': 39,\n",
       " 'bltbar1': 40,\n",
       " 'bltori1': 41,\n",
       " 'blwlap1': 42,\n",
       " 'brcale1': 43,\n",
       " 'brcsta1': 44,\n",
       " 'brctch1': 45,\n",
       " 'brcwea1': 46,\n",
       " 'brican1': 47,\n",
       " 'brobab1': 48,\n",
       " 'broman1': 49,\n",
       " 'brosun1': 50,\n",
       " 'brrwhe3': 51,\n",
       " 'brtcha1': 52,\n",
       " 'brubru1': 53,\n",
       " 'brwwar1': 54,\n",
       " 'bswdov1': 55,\n",
       " 'btweye2': 56,\n",
       " 'bubwar2': 57,\n",
       " 'butapa1': 58,\n",
       " 'cabgre1': 59,\n",
       " 'carcha1': 60,\n",
       " 'carwoo1': 61,\n",
       " 'categr': 62,\n",
       " 'ccbeat1': 63,\n",
       " 'chespa1': 64,\n",
       " 'chewea1': 65,\n",
       " 'chibat1': 66,\n",
       " 'chtapa3': 67,\n",
       " 'chucis1': 68,\n",
       " 'cibwar1': 69,\n",
       " 'cohmar1': 70,\n",
       " 'colsun2': 71,\n",
       " 'combul2': 72,\n",
       " 'combuz1': 73,\n",
       " 'comsan': 74,\n",
       " 'crefra2': 75,\n",
       " 'crheag1': 76,\n",
       " 'crohor1': 77,\n",
       " 'darbar1': 78,\n",
       " 'darter3': 79,\n",
       " 'didcuc1': 80,\n",
       " 'dotbar1': 81,\n",
       " 'dutdov1': 82,\n",
       " 'easmog1': 83,\n",
       " 'eaywag1': 84,\n",
       " 'edcsun3': 85,\n",
       " 'egygoo': 86,\n",
       " 'equaka1': 87,\n",
       " 'eswdov1': 88,\n",
       " 'eubeat1': 89,\n",
       " 'fatrav1': 90,\n",
       " 'fatwid1': 91,\n",
       " 'fislov1': 92,\n",
       " 'fotdro5': 93,\n",
       " 'gabgos2': 94,\n",
       " 'gargan': 95,\n",
       " 'gbesta1': 96,\n",
       " 'gnbcam2': 97,\n",
       " 'gnhsun1': 98,\n",
       " 'gobbun1': 99,\n",
       " 'gobsta5': 100,\n",
       " 'gobwea1': 101,\n",
       " 'golher1': 102,\n",
       " 'grbcam1': 103,\n",
       " 'grccra1': 104,\n",
       " 'grecor': 105,\n",
       " 'greegr': 106,\n",
       " 'grewoo2': 107,\n",
       " 'grwpyt1': 108,\n",
       " 'gryapa1': 109,\n",
       " 'grywrw1': 110,\n",
       " 'gybfis1': 111,\n",
       " 'gycwar3': 112,\n",
       " 'gyhbus1': 113,\n",
       " 'gyhkin1': 114,\n",
       " 'gyhneg1': 115,\n",
       " 'gyhspa1': 116,\n",
       " 'gytbar1': 117,\n",
       " 'hadibi1': 118,\n",
       " 'hamerk1': 119,\n",
       " 'hartur1': 120,\n",
       " 'helgui': 121,\n",
       " 'hipbab1': 122,\n",
       " 'hoopoe': 123,\n",
       " 'huncis1': 124,\n",
       " 'hunsun2': 125,\n",
       " 'joygre1': 126,\n",
       " 'kerspa2': 127,\n",
       " 'klacuc1': 128,\n",
       " 'kvbsun1': 129,\n",
       " 'laudov1': 130,\n",
       " 'lawgol': 131,\n",
       " 'lesmaw1': 132,\n",
       " 'lessts1': 133,\n",
       " 'libeat1': 134,\n",
       " 'litegr': 135,\n",
       " 'litswi1': 136,\n",
       " 'litwea1': 137,\n",
       " 'loceag1': 138,\n",
       " 'lotcor1': 139,\n",
       " 'lotlap1': 140,\n",
       " 'luebus1': 141,\n",
       " 'mabeat1': 142,\n",
       " 'macshr1': 143,\n",
       " 'malkin1': 144,\n",
       " 'marsto1': 145,\n",
       " 'marsun2': 146,\n",
       " 'mcptit1': 147,\n",
       " 'meypar1': 148,\n",
       " 'moccha1': 149,\n",
       " 'mouwag1': 150,\n",
       " 'ndcsun2': 151,\n",
       " 'nobfly1': 152,\n",
       " 'norbro1': 153,\n",
       " 'norcro1': 154,\n",
       " 'norfis1': 155,\n",
       " 'norpuf1': 156,\n",
       " 'nubwoo1': 157,\n",
       " 'pabspa1': 158,\n",
       " 'palfly2': 159,\n",
       " 'palpri1': 160,\n",
       " 'piecro1': 161,\n",
       " 'piekin1': 162,\n",
       " 'pitwhy': 163,\n",
       " 'purgre2': 164,\n",
       " 'pygbat1': 165,\n",
       " 'quailf1': 166,\n",
       " 'ratcis1': 167,\n",
       " 'raybar1': 168,\n",
       " 'rbsrob1': 169,\n",
       " 'rebfir2': 170,\n",
       " 'rebhor1': 171,\n",
       " 'reboxp1': 172,\n",
       " 'reccor': 173,\n",
       " 'reccuc1': 174,\n",
       " 'reedov1': 175,\n",
       " 'refbar2': 176,\n",
       " 'refcro1': 177,\n",
       " 'reftin1': 178,\n",
       " 'refwar2': 179,\n",
       " 'rehblu1': 180,\n",
       " 'rehwea1': 181,\n",
       " 'reisee2': 182,\n",
       " 'rerswa1': 183,\n",
       " 'rewsta1': 184,\n",
       " 'rindov': 185,\n",
       " 'rocmar2': 186,\n",
       " 'rostur1': 187,\n",
       " 'ruegls1': 188,\n",
       " 'rufcha2': 189,\n",
       " 'sacibi2': 190,\n",
       " 'sccsun2': 191,\n",
       " 'scrcha1': 192,\n",
       " 'scthon1': 193,\n",
       " 'shesta1': 194,\n",
       " 'sichor1': 195,\n",
       " 'sincis1': 196,\n",
       " 'slbgre1': 197,\n",
       " 'slcbou1': 198,\n",
       " 'sltnig1': 199,\n",
       " 'sobfly1': 200,\n",
       " 'somgre1': 201,\n",
       " 'somtit4': 202,\n",
       " 'soucit1': 203,\n",
       " 'soufis1': 204,\n",
       " 'spemou2': 205,\n",
       " 'spepig1': 206,\n",
       " 'spewea1': 207,\n",
       " 'spfbar1': 208,\n",
       " 'spfwea1': 209,\n",
       " 'spmthr1': 210,\n",
       " 'spwlap1': 211,\n",
       " 'squher1': 212,\n",
       " 'strher': 213,\n",
       " 'strsee1': 214,\n",
       " 'stusta1': 215,\n",
       " 'subbus1': 216,\n",
       " 'supsta1': 217,\n",
       " 'tacsun1': 218,\n",
       " 'tafpri1': 219,\n",
       " 'tamdov1': 220,\n",
       " 'thrnig1': 221,\n",
       " 'trobou1': 222,\n",
       " 'varsun2': 223,\n",
       " 'vibsta2': 224,\n",
       " 'vilwea1': 225,\n",
       " 'vimwea1': 226,\n",
       " 'walsta1': 227,\n",
       " 'wbgbir1': 228,\n",
       " 'wbrcha2': 229,\n",
       " 'wbswea1': 230,\n",
       " 'wfbeat1': 231,\n",
       " 'whbcan1': 232,\n",
       " 'whbcou1': 233,\n",
       " 'whbcro2': 234,\n",
       " 'whbtit5': 235,\n",
       " 'whbwea1': 236,\n",
       " 'whbwhe3': 237,\n",
       " 'whcpri2': 238,\n",
       " 'whctur2': 239,\n",
       " 'wheslf1': 240,\n",
       " 'whhsaw1': 241,\n",
       " 'whihel1': 242,\n",
       " 'whrshr1': 243,\n",
       " 'witswa1': 244,\n",
       " 'wlwwar': 245,\n",
       " 'wookin1': 246,\n",
       " 'woosan': 247,\n",
       " 'wtbeat1': 248,\n",
       " 'yebapa1': 249,\n",
       " 'yebbar1': 250,\n",
       " 'yebduc1': 251,\n",
       " 'yebere1': 252,\n",
       " 'yebgre1': 253,\n",
       " 'yebsto1': 254,\n",
       " 'yeccan1': 255,\n",
       " 'yefcan': 256,\n",
       " 'yelbis1': 257,\n",
       " 'yenspu1': 258,\n",
       " 'yertin1': 259,\n",
       " 'yesbar1': 260,\n",
       " 'yespet1': 261,\n",
       " 'yetgre1': 262,\n",
       " 'yewgre1': 263}"
      ]
     },
     "execution_count": 4,
     "metadata": {},
     "output_type": "execute_result"
    }
   ],
   "source": [
    "dataset.class_to_idx"
   ]
  },
  {
   "cell_type": "code",
   "execution_count": 4,
   "metadata": {},
   "outputs": [
    {
     "name": "stdout",
     "output_type": "stream",
     "text": [
      "torch.Size([3, 200, 300])\n"
     ]
    }
   ],
   "source": [
    "images, labels = next(iter(trainloader))\n",
    "print(images[0].size())"
   ]
  },
  {
   "cell_type": "code",
   "execution_count": 39,
   "metadata": {},
   "outputs": [
    {
     "name": "stdout",
     "output_type": "stream",
     "text": [
      "----------------------------------------------------------------\n",
      "        Layer (type)               Output Shape         Param #\n",
      "================================================================\n",
      "            Conv2d-1            [-1, 6, 66, 99]             654\n",
      "              ReLU-2            [-1, 6, 66, 99]               0\n",
      "         MaxPool2d-3            [-1, 6, 21, 32]               0\n",
      "           Flatten-4                 [-1, 4032]               0\n",
      "            Linear-5                  [-1, 264]       1,064,712\n",
      "================================================================\n",
      "Total params: 1,065,366\n",
      "Trainable params: 1,065,366\n",
      "Non-trainable params: 0\n",
      "----------------------------------------------------------------\n",
      "Input size (MB): 0.69\n",
      "Forward/backward pass size (MB): 0.66\n",
      "Params size (MB): 4.06\n",
      "Estimated Total Size (MB): 5.41\n",
      "----------------------------------------------------------------\n"
     ]
    }
   ],
   "source": [
    "from torchsummary import summary\n",
    "# torch.cuda.empty_cache()\n",
    "\n",
    "class NeuralNetwork(torch.nn.Module):\n",
    "    def __init__(self):\n",
    "        super().__init__()\n",
    "        self.linear_relu_stack = torch.nn.Sequential(  \n",
    "            torch.nn.Conv2d(kernel_size=6, stride=3, padding=1, in_channels=3, out_channels=6),\n",
    "            # nn.Dropout(0.25), \n",
    "            torch.nn.ReLU(),\n",
    "            torch.nn.MaxPool2d(kernel_size=4, stride=3), \n",
    "            torch.nn.Flatten(),\n",
    "            # nn.Linear(5544, 5544),\n",
    "            # nn.ReLU(),\n",
    "            torch.nn.Linear(4032, len(class_names))\n",
    "        )\n",
    "\n",
    "    def forward(self, x: torch.Tensor): \n",
    "        logits = self.linear_relu_stack(x) \n",
    "        \n",
    "        return logits\n",
    "    \n",
    "\n",
    "model = NeuralNetwork().to(device) \n",
    "# print(model)\n",
    "\n",
    "summary(model, input_size=(3, 200, 300))"
   ]
  },
  {
   "cell_type": "code",
   "execution_count": 64,
   "metadata": {},
   "outputs": [],
   "source": [
    "loss_fn = torch.nn.CrossEntropyLoss()\n",
    "optimizer = torch.optim.SGD(model.parameters(), lr=1e-3)"
   ]
  },
  {
   "cell_type": "code",
   "execution_count": 15,
   "metadata": {},
   "outputs": [],
   "source": [
    "def train_loop(dataloader, model, criteria, optimizer ):\n",
    "    epochs = 9 \n",
    "    size = len(dataloader.dataset)\n",
    "    for i in range(epochs): \n",
    "        progression_bar = tqdm(enumerate(dataloader), total=len(dataloader), leave=False)\n",
    "\n",
    "        for batch, (X, y) in progression_bar:\n",
    "            \n",
    "            X = torch.FloatTensor(X).to(device)\n",
    "            print(X.shape)\n",
    "            return\n",
    "            y = torch.as_tensor(y).to(device)\n",
    "            pred = model(X) \n",
    "            loss = criteria(pred, y)\n",
    "\n",
    "            # Backpropagation\n",
    "            optimizer.zero_grad()\n",
    "            loss.backward() \n",
    "            optimizer.step()\n",
    "\n",
    "            if batch % 100 == 0:\n",
    "                loss, current = loss.item(), (batch + 1) * len(X)\n",
    "                progression_bar.set_description(f\"loss: {loss:>7f}\") \n",
    "        \n",
    "        today = datetime.today().strftime('%Y-%m-%d')\n",
    "        Path('./models').mkdir(parents=True, exist_ok=True)\n",
    "        load_name = os.path.join('./models', f'model{today}{i}.pth')\n",
    "        torch.save({\n",
    "            'epoch': i,\n",
    "            'model_state_dict': model.state_dict(),\n",
    "            'optimizer_state_dict': optimizer.state_dict(),\n",
    "            'loss': criteria, \n",
    "            }, load_name)\n",
    "        \n",
    "         \n",
    "\n",
    "\n",
    "\n",
    "# train_loop(trainloader, model, loss_fn, optimizer)"
   ]
  },
  {
   "cell_type": "code",
   "execution_count": 60,
   "metadata": {},
   "outputs": [],
   "source": [
    "today = datetime.today().strftime('%Y-%m-%d')\n",
    "Path('./models').mkdir(parents=True, exist_ok=True)\n",
    "load_name = os.path.join('./models', f'model{today}{0}.pth')\n",
    "torch.save({\n",
    "            'epoch': 0,\n",
    "            'model_state_dict': model.state_dict(),\n",
    "            'optimizer_state_dict': optimizer.state_dict(),\n",
    "            'loss': loss_fn, \n",
    "            }, load_name)"
   ]
  },
  {
   "cell_type": "code",
   "execution_count": 3,
   "metadata": {},
   "outputs": [],
   "source": [
    "def test_loop(dataloader, model, loss_fn):\n",
    "    size = len(dataloader.dataset)\n",
    "    num_batches = len(dataloader)\n",
    "    test_loss, correct = 0, 0\n",
    "\n",
    "    with torch.no_grad():\n",
    "        for batch, (X, y) in tqdm(enumerate(dataloader), total=len(dataloader), leave=False):\n",
    "            X = torch.FloatTensor(X).to(device)\n",
    "            \n",
    "            y = y.to(device)\n",
    "            pred = model(X)\n",
    "            test_loss += loss_fn(pred, y).item()\n",
    "            correct += (pred.argmax(1) == y).type(torch.float).sum().item()\n",
    "\n",
    "    test_loss /= num_batches\n",
    "    correct /= size\n",
    "    print(f\"Test Error: \\n Accuracy: {(100*correct):>0.1f}%, Avg loss: {test_loss:>8f} \\n\")\n",
    "\n",
    "testloader = torch.utils.data.DataLoader(testDataset, batch_size=128, shuffle=False)\n",
    "\n",
    "# test_loop(testloader, model, loss_fn )"
   ]
  },
  {
   "cell_type": "code",
   "execution_count": null,
   "metadata": {},
   "outputs": [],
   "source": [
    "def visualize_model(model, num_images=6):\n",
    "    was_training = model.training\n",
    "    model.eval()\n",
    "    images_so_far = 0\n",
    "    fig = plt.figure()\n",
    "\n",
    "    with torch.no_grad():\n",
    "        for i, (inputs, labels) in enumerate(dataloaders['val']):\n",
    "            inputs = inputs.to(device)\n",
    "            labels = labels.to(device)\n",
    "\n",
    "            outputs = model(inputs)\n",
    "            _, preds = torch.max(outputs, 1)\n",
    "\n",
    "            for j in range(inputs.size()[0]):\n",
    "                images_so_far += 1\n",
    "                ax = plt.subplot(num_images//2, 2, images_so_far)\n",
    "                ax.axis('off')\n",
    "                ax.set_title(f'predicted: {class_names[preds[j]]}')\n",
    "                imshow(inputs.cpu().data[j])\n",
    "\n",
    "                if images_so_far == num_images:\n",
    "                    model.train(mode=was_training)\n",
    "                    return\n",
    "        model.train(mode=was_training)"
   ]
  },
  {
   "cell_type": "code",
   "execution_count": 74,
   "metadata": {},
   "outputs": [
    {
     "name": "stderr",
     "output_type": "stream",
     "text": [
      "c:\\Users\\yatsy\\anaconda3\\lib\\site-packages\\torchvision\\models\\_utils.py:208: UserWarning: The parameter 'pretrained' is deprecated since 0.13 and may be removed in the future, please use 'weights' instead.\n",
      "  warnings.warn(\n",
      "c:\\Users\\yatsy\\anaconda3\\lib\\site-packages\\torchvision\\models\\_utils.py:223: UserWarning: Arguments other than a weight enum or `None` for 'weights' are deprecated since 0.13 and may be removed in the future. The current behavior is equivalent to passing `weights=ResNet18_Weights.IMAGENET1K_V1`. You can also use `weights=ResNet18_Weights.DEFAULT` to get the most up-to-date weights.\n",
      "  warnings.warn(msg)\n"
     ]
    }
   ],
   "source": [
    "class_names = sorted(os.listdir('./data/train_audio/'))\n",
    "\n",
    "model_ft = models.resnet18(pretrained=True)\n",
    "num_ftrs = model_ft.fc.in_features\n",
    "model_ft.fc = torch.nn.Linear(num_ftrs, len(class_names))\n",
    "model_ft = model_ft.to(device)\n",
    "criterion = torch.nn.CrossEntropyLoss()\n",
    "\n",
    "# Observe that all parameters are being optimized\n",
    "optimizer_ft = torch.optim.SGD(model_ft.parameters(), lr=0.001, momentum=0.9)\n",
    "\n",
    "# Decay LR by a factor of 0.1 every 7 epochs\n",
    "exp_lr_scheduler = torch.optim.lr_scheduler.StepLR(optimizer_ft, step_size=7, gamma=0.1)"
   ]
  },
  {
   "cell_type": "code",
   "execution_count": 16,
   "metadata": {},
   "outputs": [
    {
     "name": "stderr",
     "output_type": "stream",
     "text": [
      "                                        "
     ]
    },
    {
     "name": "stdout",
     "output_type": "stream",
     "text": [
      "torch.Size([64, 3, 200, 300])\n"
     ]
    },
    {
     "name": "stderr",
     "output_type": "stream",
     "text": [
      "\r"
     ]
    }
   ],
   "source": [
    "model_conv = train_loop(trainloader, model_ft, criterion, optimizer_ft  )"
   ]
  },
  {
   "cell_type": "code",
   "execution_count": 8,
   "metadata": {},
   "outputs": [
    {
     "name": "stderr",
     "output_type": "stream",
     "text": [
      "                                                 "
     ]
    },
    {
     "name": "stdout",
     "output_type": "stream",
     "text": [
      "Test Error: \n",
      " Accuracy: 96.5%, Avg loss: 0.188252 \n",
      "\n"
     ]
    },
    {
     "name": "stderr",
     "output_type": "stream",
     "text": [
      "\r"
     ]
    }
   ],
   "source": [
    "test_loop(testloader, model_ft, criterion )"
   ]
  },
  {
   "cell_type": "code",
   "execution_count": 4,
   "metadata": {},
   "outputs": [],
   "source": [
    "class_names = sorted(os.listdir('./kaggle/input/birdclef-2023/train_audio'))\n"
   ]
  },
  {
   "cell_type": "code",
   "execution_count": 5,
   "metadata": {},
   "outputs": [
    {
     "name": "stderr",
     "output_type": "stream",
     "text": [
      "/home/lex/miniconda3/lib/python3.10/site-packages/torchvision/models/_utils.py:208: UserWarning: The parameter 'pretrained' is deprecated since 0.13 and may be removed in the future, please use 'weights' instead.\n",
      "  warnings.warn(\n",
      "/home/lex/miniconda3/lib/python3.10/site-packages/torchvision/models/_utils.py:223: UserWarning: Arguments other than a weight enum or `None` for 'weights' are deprecated since 0.13 and may be removed in the future. The current behavior is equivalent to passing `weights=None`.\n",
      "  warnings.warn(msg)\n"
     ]
    }
   ],
   "source": [
    "model_ft = models.resnet18(pretrained=False)\n",
    "num_ftrs = model_ft.fc.in_features\n",
    "model_ft.fc = torch.nn.Linear(num_ftrs, len(class_names))\n",
    "model_ft = model_ft.to(device)\n",
    "criterion = torch.nn.CrossEntropyLoss()\n",
    "\n",
    "# Observe that all parameters are being optimized\n",
    "optimizer_ft = torch.optim.SGD(model_ft.parameters(), lr=0.001, momentum=0.9)\n",
    "\n",
    "checkpoint = torch.load(os.path.join('./models', f'model2023-04-028.pth'))\n",
    "model_ft.load_state_dict(checkpoint['model_state_dict'])\n",
    "optimizer_ft.load_state_dict(checkpoint['optimizer_state_dict'])"
   ]
  },
  {
   "cell_type": "code",
   "execution_count": 18,
   "metadata": {},
   "outputs": [
    {
     "name": "stdout",
     "output_type": "stream",
     "text": [
      "expected: [0, 12, 245]\n",
      "predicted: [  0  12 245]\n"
     ]
    }
   ],
   "source": [
    "\n",
    "\n",
    "firstBatch, first_y = dataset[0]\n",
    "secondBatch, second_y = dataset[4444]\n",
    "thirdBatch, third_y = dataset[137255]\n",
    " \n",
    "print(f\"expected: {[first_y, second_y, third_y]}\")\n",
    "\n",
    "X = firstBatch.unsqueeze(0) \n",
    "X = torch.cat((X, secondBatch.unsqueeze(0)), 0)\n",
    "X = torch.cat((X, thirdBatch.unsqueeze(0)), 0).cuda()\n",
    " \n",
    "model_ft.train() \n",
    "with torch.no_grad():\n",
    "    firstBatch = torch.FloatTensor(firstBatch).cuda()\n",
    "   \n",
    "    pred = model_ft(X)\n",
    "    print(f\"predicted: {pred.argmax(1).cpu().numpy()}\")\n"
   ]
  },
  {
   "cell_type": "code",
   "execution_count": 11,
   "metadata": {},
   "outputs": [
    {
     "name": "stdout",
     "output_type": "stream",
     "text": [
      "147255\n"
     ]
    }
   ],
   "source": [
    "print(len(dataset))"
   ]
  },
  {
   "cell_type": "code",
   "execution_count": 65,
   "metadata": {},
   "outputs": [
    {
     "name": "stdout",
     "output_type": "stream",
     "text": [
      "expected: [0, 89]\n",
      "predicted: [202  89]\n"
     ]
    }
   ],
   "source": []
  },
  {
   "cell_type": "code",
   "execution_count": 22,
   "metadata": {},
   "outputs": [
    {
     "name": "stdout",
     "output_type": "stream",
     "text": [
      "expected: [0]\n",
      "predicted: [243 245]\n"
     ]
    }
   ],
   "source": [
    "dataset = datasets.ImageFolder('./kaggle/input/birdclef-2023/test_melspectrogram', transform=transform )\n",
    "\n",
    "\n",
    "firstBatch, first_y = dataset[0]\n",
    " \n",
    "print(f\"expected: {[first_y]}\")\n",
    "\n",
    "X = firstBatch.unsqueeze(0).cuda()\n",
    " \n",
    " \n",
    "with torch.no_grad():\n",
    "    pred = model_ft(X)\n",
    "    print(f\"predicted: {pred.argmax(1).cpu().numpy()}\")\n"
   ]
  }
 ],
 "metadata": {
  "kernelspec": {
   "display_name": "base",
   "language": "python",
   "name": "python3"
  },
  "language_info": {
   "codemirror_mode": {
    "name": "ipython",
    "version": 3
   },
   "file_extension": ".py",
   "mimetype": "text/x-python",
   "name": "python",
   "nbconvert_exporter": "python",
   "pygments_lexer": "ipython3",
   "version": "3.10.9"
  },
  "orig_nbformat": 4,
  "vscode": {
   "interpreter": {
    "hash": "b875fe5df27458d6e5386338453ec9dcfa4b2929984d5f2a45aefcdea2b819bf"
   }
  }
 },
 "nbformat": 4,
 "nbformat_minor": 2
}
